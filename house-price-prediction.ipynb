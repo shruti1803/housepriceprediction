{
 "cells": [
  {
   "cell_type": "code",
   "execution_count": 1,
   "metadata": {
    "_cell_guid": "b1076dfc-b9ad-4769-8c92-a6c4dae69d19",
    "_kg_hide-input": true,
    "_uuid": "8f2839f25d086af736a60e9eeb907d3b93b6e0e5"
   },
   "outputs": [
    {
     "name": "stdout",
     "output_type": "stream",
     "text": [
      "/kaggle/input/house-prices-advanced-regression-techniques/data_description.txt\n",
      "/kaggle/input/house-prices-advanced-regression-techniques/test.csv\n",
      "/kaggle/input/house-prices-advanced-regression-techniques/train.csv\n",
      "/kaggle/input/house-prices-advanced-regression-techniques/sample_submission.csv\n"
     ]
    }
   ],
   "source": [
    "import numpy as np # linear algebra\n",
    "import pandas as pd # data processing, CSV file I/O (e.g. pd.read_csv)\n",
    "import matplotlib.pyplot as plt\n",
    "import seaborn as sns\n",
    "sns.set_style('whitegrid')\n",
    "\n",
    "import warnings\n",
    "warnings.simplefilter(action='ignore')\n",
    "\n",
    "# Input data files are available in the \"../input/\" directory.\n",
    "# For example, running this (by clicking run or pressing Shift+Enter) will list all files under the input directory\n",
    "\n",
    "import os\n",
    "for dirname, _, filenames in os.walk('/kaggle/input'):\n",
    "    for filename in filenames:\n",
    "        print(os.path.join(dirname, filename))\n",
    "\n",
    "# Any results you write to the current directory are saved as output."
   ]
  },
  {
   "cell_type": "code",
   "execution_count": 2,
   "metadata": {
    "_cell_guid": "79c7e3d0-c299-4dcb-8224-4455121ee9b0",
    "_uuid": "d629ff2d2480ee46fbb7e2d37f6b5fab8052498a"
   },
   "outputs": [],
   "source": [
    "a = pd.read_csv('/kaggle/input/house-prices-advanced-regression-techniques/train.csv')\n",
    "b = pd.read_csv('/kaggle/input/house-prices-advanced-regression-techniques/test.csv')"
   ]
  },
  {
   "cell_type": "code",
   "execution_count": 3,
   "metadata": {},
   "outputs": [
    {
     "name": "stdout",
     "output_type": "stream",
     "text": [
      "The shape of our training set:  1460 houses and 81 features\n",
      "The shape of our testing set:  1459 houses and 80 features\n",
      "The testing set has 1 feature less than the training set, which is SalePrice, the target to predict  \n"
     ]
    }
   ],
   "source": [
    "print('The shape of our training set: ',a.shape[0], 'houses', 'and', a.shape[1], 'features')\n",
    "print('The shape of our testing set: ',b.shape[0], 'houses', 'and', b.shape[1], 'features')\n",
    "print('The testing set has 1 feature less than the training set, which is SalePrice, the target to predict  ')"
   ]
  },
  {
   "cell_type": "code",
   "execution_count": 4,
   "metadata": {},
   "outputs": [
    {
     "name": "stdout",
     "output_type": "stream",
     "text": [
      "Total size is : (2919, 79)\n"
     ]
    }
   ],
   "source": [
    "na = a.shape[0]\n",
    "nb = b.shape[0]\n",
    "y_train = a['SalePrice'].to_frame()\n",
    "#Combine train and test sets\n",
    "c1 = pd.concat((a, b), sort=False).reset_index(drop=True)\n",
    "#Drop the target \"SalePrice\" and Id columns\n",
    "c1.drop(['SalePrice'], axis=1, inplace=True)\n",
    "c1.drop(['Id'], axis=1, inplace=True)\n",
    "print(\"Total size is :\",c1.shape)"
   ]
  },
  {
   "cell_type": "markdown",
   "metadata": {},
   "source": [
    "# Data cleaning"
   ]
  },
  {
   "cell_type": "code",
   "execution_count": 5,
   "metadata": {},
   "outputs": [
    {
     "name": "stdout",
     "output_type": "stream",
     "text": [
      "We dropped  6  features in the combined set\n"
     ]
    }
   ],
   "source": [
    "c=c1.dropna(thresh=len(c1)*0.9, axis=1)\n",
    "print('We dropped ',c1.shape[1]-c.shape[1], ' features in the combined set')"
   ]
  },
  {
   "cell_type": "code",
   "execution_count": 6,
   "metadata": {},
   "outputs": [
    {
     "name": "stdout",
     "output_type": "stream",
     "text": [
      "The shape of the combined dataset after dropping features with more than 90% M.V. (2919, 73)\n"
     ]
    }
   ],
   "source": [
    "print('The shape of the combined dataset after dropping features with more than 90% M.V.', c.shape)"
   ]
  },
  {
   "cell_type": "code",
   "execution_count": 7,
   "metadata": {},
   "outputs": [],
   "source": [
    "NA=c[['GarageType', 'GarageFinish', 'GarageQual', 'GarageCond','GarageYrBlt','BsmtFinType2','BsmtFinType1','BsmtCond', 'BsmtQual','BsmtExposure', 'MasVnrArea','MasVnrType','Electrical','MSZoning','BsmtFullBath','BsmtHalfBath','Utilities','Functional','Exterior1st','BsmtUnfSF','Exterior2nd','TotalBsmtSF','GarageArea','GarageCars','KitchenQual','BsmtFinSF2','BsmtFinSF1','SaleType']]"
   ]
  },
  {
   "cell_type": "markdown",
   "metadata": {},
   "source": [
    "We split them to:\n",
    "* Categorical features\n",
    "* Numerical features"
   ]
  },
  {
   "cell_type": "code",
   "execution_count": 8,
   "metadata": {},
   "outputs": [
    {
     "name": "stdout",
     "output_type": "stream",
     "text": [
      "We have : 18 categorical features with missing values\n",
      "We have : 10 numerical features with missing values\n"
     ]
    }
   ],
   "source": [
    "NAcat=NA.select_dtypes(include='object')\n",
    "NAnum=NA.select_dtypes(exclude='object')\n",
    "print('We have :',NAcat.shape[1],'categorical features with missing values')\n",
    "print('We have :',NAnum.shape[1],'numerical features with missing values')"
   ]
  },
  {
   "cell_type": "code",
   "execution_count": 9,
   "metadata": {
    "_kg_hide-input": true
   },
   "outputs": [
    {
     "data": {
      "text/html": [
       "<div>\n",
       "<style scoped>\n",
       "    .dataframe tbody tr th:only-of-type {\n",
       "        vertical-align: middle;\n",
       "    }\n",
       "\n",
       "    .dataframe tbody tr th {\n",
       "        vertical-align: top;\n",
       "    }\n",
       "\n",
       "    .dataframe thead th {\n",
       "        text-align: right;\n",
       "    }\n",
       "</style>\n",
       "<table border=\"1\" class=\"dataframe\">\n",
       "  <thead>\n",
       "    <tr style=\"text-align: right;\">\n",
       "      <th></th>\n",
       "      <th>GarageYrBlt</th>\n",
       "      <th>MasVnrArea</th>\n",
       "      <th>BsmtFullBath</th>\n",
       "      <th>BsmtHalfBath</th>\n",
       "      <th>BsmtUnfSF</th>\n",
       "      <th>TotalBsmtSF</th>\n",
       "      <th>GarageArea</th>\n",
       "      <th>GarageCars</th>\n",
       "      <th>BsmtFinSF2</th>\n",
       "      <th>BsmtFinSF1</th>\n",
       "    </tr>\n",
       "  </thead>\n",
       "  <tbody>\n",
       "    <tr>\n",
       "      <th>0</th>\n",
       "      <td>2003.0</td>\n",
       "      <td>196.0</td>\n",
       "      <td>1.0</td>\n",
       "      <td>0.0</td>\n",
       "      <td>150.0</td>\n",
       "      <td>856.0</td>\n",
       "      <td>548.0</td>\n",
       "      <td>2.0</td>\n",
       "      <td>0.0</td>\n",
       "      <td>706.0</td>\n",
       "    </tr>\n",
       "    <tr>\n",
       "      <th>1</th>\n",
       "      <td>1976.0</td>\n",
       "      <td>0.0</td>\n",
       "      <td>0.0</td>\n",
       "      <td>1.0</td>\n",
       "      <td>284.0</td>\n",
       "      <td>1262.0</td>\n",
       "      <td>460.0</td>\n",
       "      <td>2.0</td>\n",
       "      <td>0.0</td>\n",
       "      <td>978.0</td>\n",
       "    </tr>\n",
       "    <tr>\n",
       "      <th>2</th>\n",
       "      <td>2001.0</td>\n",
       "      <td>162.0</td>\n",
       "      <td>1.0</td>\n",
       "      <td>0.0</td>\n",
       "      <td>434.0</td>\n",
       "      <td>920.0</td>\n",
       "      <td>608.0</td>\n",
       "      <td>2.0</td>\n",
       "      <td>0.0</td>\n",
       "      <td>486.0</td>\n",
       "    </tr>\n",
       "    <tr>\n",
       "      <th>3</th>\n",
       "      <td>1998.0</td>\n",
       "      <td>0.0</td>\n",
       "      <td>1.0</td>\n",
       "      <td>0.0</td>\n",
       "      <td>540.0</td>\n",
       "      <td>756.0</td>\n",
       "      <td>642.0</td>\n",
       "      <td>3.0</td>\n",
       "      <td>0.0</td>\n",
       "      <td>216.0</td>\n",
       "    </tr>\n",
       "    <tr>\n",
       "      <th>4</th>\n",
       "      <td>2000.0</td>\n",
       "      <td>350.0</td>\n",
       "      <td>1.0</td>\n",
       "      <td>0.0</td>\n",
       "      <td>490.0</td>\n",
       "      <td>1145.0</td>\n",
       "      <td>836.0</td>\n",
       "      <td>3.0</td>\n",
       "      <td>0.0</td>\n",
       "      <td>655.0</td>\n",
       "    </tr>\n",
       "  </tbody>\n",
       "</table>\n",
       "</div>"
      ],
      "text/plain": [
       "   GarageYrBlt  MasVnrArea  BsmtFullBath  BsmtHalfBath  BsmtUnfSF  \\\n",
       "0       2003.0       196.0           1.0           0.0      150.0   \n",
       "1       1976.0         0.0           0.0           1.0      284.0   \n",
       "2       2001.0       162.0           1.0           0.0      434.0   \n",
       "3       1998.0         0.0           1.0           0.0      540.0   \n",
       "4       2000.0       350.0           1.0           0.0      490.0   \n",
       "\n",
       "   TotalBsmtSF  GarageArea  GarageCars  BsmtFinSF2  BsmtFinSF1  \n",
       "0        856.0       548.0         2.0         0.0       706.0  \n",
       "1       1262.0       460.0         2.0         0.0       978.0  \n",
       "2        920.0       608.0         2.0         0.0       486.0  \n",
       "3        756.0       642.0         3.0         0.0       216.0  \n",
       "4       1145.0       836.0         3.0         0.0       655.0  "
      ]
     },
     "execution_count": 9,
     "metadata": {},
     "output_type": "execute_result"
    }
   ],
   "source": [
    "NAnum.head()"
   ]
  },
  {
   "cell_type": "code",
   "execution_count": 10,
   "metadata": {},
   "outputs": [],
   "source": [
    "#MasVnrArea: Masonry veneer area in square feet, the missing data means no veneer so we fill with 0\n",
    "c['MasVnrArea']=c.MasVnrArea.fillna(0)\n",
    "#GarageYrBlt:  Year garage was built, we fill the gaps with the median: 1980\n",
    "c['GarageYrBlt']=c[\"GarageYrBlt\"].fillna(1980)\n",
    "#For the rest of the columns: Bathroom, half bathroom, basement related columns and garage related columns:\n",
    "#We will fill with 0s because they just mean that the hosue doesn't have a basement, bathrooms or a garage"
   ]
  },
  {
   "cell_type": "code",
   "execution_count": 11,
   "metadata": {
    "_kg_hide-input": true
   },
   "outputs": [
    {
     "data": {
      "text/html": [
       "<div>\n",
       "<style scoped>\n",
       "    .dataframe tbody tr th:only-of-type {\n",
       "        vertical-align: middle;\n",
       "    }\n",
       "\n",
       "    .dataframe tbody tr th {\n",
       "        vertical-align: top;\n",
       "    }\n",
       "\n",
       "    .dataframe thead th {\n",
       "        text-align: right;\n",
       "    }\n",
       "</style>\n",
       "<table border=\"1\" class=\"dataframe\">\n",
       "  <thead>\n",
       "    <tr style=\"text-align: right;\">\n",
       "      <th></th>\n",
       "      <th>GarageType</th>\n",
       "      <th>GarageFinish</th>\n",
       "      <th>GarageQual</th>\n",
       "      <th>GarageCond</th>\n",
       "      <th>BsmtFinType2</th>\n",
       "      <th>BsmtFinType1</th>\n",
       "      <th>BsmtCond</th>\n",
       "      <th>BsmtQual</th>\n",
       "      <th>BsmtExposure</th>\n",
       "      <th>MasVnrType</th>\n",
       "      <th>Electrical</th>\n",
       "      <th>MSZoning</th>\n",
       "      <th>Utilities</th>\n",
       "      <th>Functional</th>\n",
       "      <th>Exterior1st</th>\n",
       "      <th>Exterior2nd</th>\n",
       "      <th>KitchenQual</th>\n",
       "      <th>SaleType</th>\n",
       "    </tr>\n",
       "  </thead>\n",
       "  <tbody>\n",
       "    <tr>\n",
       "      <th>0</th>\n",
       "      <td>Attchd</td>\n",
       "      <td>RFn</td>\n",
       "      <td>TA</td>\n",
       "      <td>TA</td>\n",
       "      <td>Unf</td>\n",
       "      <td>GLQ</td>\n",
       "      <td>TA</td>\n",
       "      <td>Gd</td>\n",
       "      <td>No</td>\n",
       "      <td>BrkFace</td>\n",
       "      <td>SBrkr</td>\n",
       "      <td>RL</td>\n",
       "      <td>AllPub</td>\n",
       "      <td>Typ</td>\n",
       "      <td>VinylSd</td>\n",
       "      <td>VinylSd</td>\n",
       "      <td>Gd</td>\n",
       "      <td>WD</td>\n",
       "    </tr>\n",
       "    <tr>\n",
       "      <th>1</th>\n",
       "      <td>Attchd</td>\n",
       "      <td>RFn</td>\n",
       "      <td>TA</td>\n",
       "      <td>TA</td>\n",
       "      <td>Unf</td>\n",
       "      <td>ALQ</td>\n",
       "      <td>TA</td>\n",
       "      <td>Gd</td>\n",
       "      <td>Gd</td>\n",
       "      <td>None</td>\n",
       "      <td>SBrkr</td>\n",
       "      <td>RL</td>\n",
       "      <td>AllPub</td>\n",
       "      <td>Typ</td>\n",
       "      <td>MetalSd</td>\n",
       "      <td>MetalSd</td>\n",
       "      <td>TA</td>\n",
       "      <td>WD</td>\n",
       "    </tr>\n",
       "    <tr>\n",
       "      <th>2</th>\n",
       "      <td>Attchd</td>\n",
       "      <td>RFn</td>\n",
       "      <td>TA</td>\n",
       "      <td>TA</td>\n",
       "      <td>Unf</td>\n",
       "      <td>GLQ</td>\n",
       "      <td>TA</td>\n",
       "      <td>Gd</td>\n",
       "      <td>Mn</td>\n",
       "      <td>BrkFace</td>\n",
       "      <td>SBrkr</td>\n",
       "      <td>RL</td>\n",
       "      <td>AllPub</td>\n",
       "      <td>Typ</td>\n",
       "      <td>VinylSd</td>\n",
       "      <td>VinylSd</td>\n",
       "      <td>Gd</td>\n",
       "      <td>WD</td>\n",
       "    </tr>\n",
       "    <tr>\n",
       "      <th>3</th>\n",
       "      <td>Detchd</td>\n",
       "      <td>Unf</td>\n",
       "      <td>TA</td>\n",
       "      <td>TA</td>\n",
       "      <td>Unf</td>\n",
       "      <td>ALQ</td>\n",
       "      <td>Gd</td>\n",
       "      <td>TA</td>\n",
       "      <td>No</td>\n",
       "      <td>None</td>\n",
       "      <td>SBrkr</td>\n",
       "      <td>RL</td>\n",
       "      <td>AllPub</td>\n",
       "      <td>Typ</td>\n",
       "      <td>Wd Sdng</td>\n",
       "      <td>Wd Shng</td>\n",
       "      <td>Gd</td>\n",
       "      <td>WD</td>\n",
       "    </tr>\n",
       "    <tr>\n",
       "      <th>4</th>\n",
       "      <td>Attchd</td>\n",
       "      <td>RFn</td>\n",
       "      <td>TA</td>\n",
       "      <td>TA</td>\n",
       "      <td>Unf</td>\n",
       "      <td>GLQ</td>\n",
       "      <td>TA</td>\n",
       "      <td>Gd</td>\n",
       "      <td>Av</td>\n",
       "      <td>BrkFace</td>\n",
       "      <td>SBrkr</td>\n",
       "      <td>RL</td>\n",
       "      <td>AllPub</td>\n",
       "      <td>Typ</td>\n",
       "      <td>VinylSd</td>\n",
       "      <td>VinylSd</td>\n",
       "      <td>Gd</td>\n",
       "      <td>WD</td>\n",
       "    </tr>\n",
       "  </tbody>\n",
       "</table>\n",
       "</div>"
      ],
      "text/plain": [
       "  GarageType GarageFinish GarageQual GarageCond BsmtFinType2 BsmtFinType1  \\\n",
       "0     Attchd          RFn         TA         TA          Unf          GLQ   \n",
       "1     Attchd          RFn         TA         TA          Unf          ALQ   \n",
       "2     Attchd          RFn         TA         TA          Unf          GLQ   \n",
       "3     Detchd          Unf         TA         TA          Unf          ALQ   \n",
       "4     Attchd          RFn         TA         TA          Unf          GLQ   \n",
       "\n",
       "  BsmtCond BsmtQual BsmtExposure MasVnrType Electrical MSZoning Utilities  \\\n",
       "0       TA       Gd           No    BrkFace      SBrkr       RL    AllPub   \n",
       "1       TA       Gd           Gd       None      SBrkr       RL    AllPub   \n",
       "2       TA       Gd           Mn    BrkFace      SBrkr       RL    AllPub   \n",
       "3       Gd       TA           No       None      SBrkr       RL    AllPub   \n",
       "4       TA       Gd           Av    BrkFace      SBrkr       RL    AllPub   \n",
       "\n",
       "  Functional Exterior1st Exterior2nd KitchenQual SaleType  \n",
       "0        Typ     VinylSd     VinylSd          Gd       WD  \n",
       "1        Typ     MetalSd     MetalSd          TA       WD  \n",
       "2        Typ     VinylSd     VinylSd          Gd       WD  \n",
       "3        Typ     Wd Sdng     Wd Shng          Gd       WD  \n",
       "4        Typ     VinylSd     VinylSd          Gd       WD  "
      ]
     },
     "execution_count": 11,
     "metadata": {},
     "output_type": "execute_result"
    }
   ],
   "source": [
    "NAcat.head()"
   ]
  },
  {
   "cell_type": "code",
   "execution_count": 12,
   "metadata": {},
   "outputs": [],
   "source": [
    "#We start with features having just few missing value:  We fill the gap with forward fill method:\n",
    "c['Electrical']=c['Electrical'].fillna(method='ffill')\n",
    "c['SaleType']=c['SaleType'].fillna(method='ffill')\n",
    "c['KitchenQual']=c['KitchenQual'].fillna(method='ffill')\n",
    "c['Exterior1st']=c['Exterior1st'].fillna(method='ffill')\n",
    "c['Exterior2nd']=c['Exterior2nd'].fillna(method='ffill')\n",
    "c['Functional']=c['Functional'].fillna(method='ffill')\n",
    "c['Utilities']=c['Utilities'].fillna(method='ffill')\n",
    "c['MSZoning']=c['MSZoning'].fillna(method='ffill')"
   ]
  },
  {
   "cell_type": "code",
   "execution_count": 13,
   "metadata": {},
   "outputs": [],
   "source": [
    "#Categorical missing values\n",
    "NAcols=c.columns\n",
    "for col in NAcols:\n",
    "    if c[col].dtype == \"object\":\n",
    "        c[col] = c[col].fillna(\"None\")\n",
    "        \n",
    "        \n",
    "#Numerical missing values\n",
    "for col in NAcols:\n",
    "    if c[col].dtype != \"object\":\n",
    "        c[col]= c[col].fillna(0)"
   ]
  },
  {
   "cell_type": "markdown",
   "metadata": {},
   "source": [
    "# Feature engineering:"
   ]
  },
  {
   "cell_type": "code",
   "execution_count": 14,
   "metadata": {},
   "outputs": [],
   "source": [
    "c['TotalArea'] = c['TotalBsmtSF'] + c['1stFlrSF'] + c['2ndFlrSF'] + c['GrLivArea'] +c['GarageArea']\n",
    "\n",
    "c['Bathrooms'] = c['FullBath'] + c['HalfBath']*0.5 \n",
    "\n",
    "c['Year average']= (c['YearRemodAdd']+c['YearBuilt'])/2"
   ]
  },
  {
   "cell_type": "code",
   "execution_count": 15,
   "metadata": {},
   "outputs": [
    {
     "name": "stdout",
     "output_type": "stream",
     "text": [
      "the shape of the original dataset (2919, 76)\n",
      "the shape of the encoded dataset (2919, 281)\n",
      "We have  205 new encoded features\n"
     ]
    }
   ],
   "source": [
    "cb=pd.get_dummies(c)\n",
    "print(\"the shape of the original dataset\",c.shape)\n",
    "print(\"the shape of the encoded dataset\",cb.shape)\n",
    "print(\"We have \",cb.shape[1]- c.shape[1], 'new encoded features')"
   ]
  },
  {
   "cell_type": "markdown",
   "metadata": {},
   "source": [
    "* **log transform skewed numeric features:**"
   ]
  },
  {
   "cell_type": "code",
   "execution_count": 16,
   "metadata": {},
   "outputs": [],
   "source": [
    "from scipy.stats import skew\n",
    "\n",
    "numeric_feats = c.dtypes[c.dtypes != \"object\"].index\n",
    "\n",
    "skewed_feats = c[numeric_feats].apply(lambda x: skew(x.dropna())) #compute skewness\n",
    "skewed_feats = skewed_feats[skewed_feats > 0.75]\n",
    "skewed_feats = skewed_feats.index\n",
    "\n",
    "c[skewed_feats] = np.log1p(c[skewed_feats])\n"
   ]
  },
  {
   "cell_type": "code",
   "execution_count": 17,
   "metadata": {},
   "outputs": [],
   "source": [
    "Train = cb[:na]  #na is the number of rows of the original training set\n",
    "Test = cb[na:] "
   ]
  },
  {
   "cell_type": "markdown",
   "metadata": {},
   "source": [
    "# Detecting outliers"
   ]
  },
  {
   "cell_type": "code",
   "execution_count": 18,
   "metadata": {},
   "outputs": [
    {
     "data": {
      "text/plain": [
       "1298    5642\n",
       "523     4676\n",
       "Name: GrLivArea, dtype: int64"
      ]
     },
     "execution_count": 18,
     "metadata": {},
     "output_type": "execute_result"
    }
   ],
   "source": [
    "a['GrLivArea'].sort_values(ascending=False).head(2)"
   ]
  },
  {
   "cell_type": "code",
   "execution_count": 19,
   "metadata": {},
   "outputs": [
    {
     "data": {
      "text/plain": [
       "1298    6110\n",
       "Name: TotalBsmtSF, dtype: int64"
      ]
     },
     "execution_count": 19,
     "metadata": {},
     "output_type": "execute_result"
    }
   ],
   "source": [
    "a['TotalBsmtSF'].sort_values(ascending=False).head(1)"
   ]
  },
  {
   "cell_type": "code",
   "execution_count": 20,
   "metadata": {},
   "outputs": [
    {
     "data": {
      "text/plain": [
       "297    1600.0\n",
       "Name: MasVnrArea, dtype: float64"
      ]
     },
     "execution_count": 20,
     "metadata": {},
     "output_type": "execute_result"
    }
   ],
   "source": [
    "a['MasVnrArea'].sort_values(ascending=False).head(1)"
   ]
  },
  {
   "cell_type": "code",
   "execution_count": 21,
   "metadata": {},
   "outputs": [
    {
     "data": {
      "text/plain": [
       "1298    4692\n",
       "Name: 1stFlrSF, dtype: int64"
      ]
     },
     "execution_count": 21,
     "metadata": {},
     "output_type": "execute_result"
    }
   ],
   "source": [
    "a['1stFlrSF'].sort_values(ascending=False).head(1)"
   ]
  },
  {
   "cell_type": "markdown",
   "metadata": {},
   "source": [
    "\n",
    "We can safely remove those 3 points."
   ]
  },
  {
   "cell_type": "code",
   "execution_count": 22,
   "metadata": {},
   "outputs": [
    {
     "name": "stdout",
     "output_type": "stream",
     "text": [
      "We removed  3 outliers\n"
     ]
    }
   ],
   "source": [
    "train=Train[(Train['GrLivArea'] < 4600) & (Train['MasVnrArea'] < 1500)]\n",
    "\n",
    "print('We removed ',Train.shape[0]- train.shape[0],'outliers')"
   ]
  },
  {
   "cell_type": "markdown",
   "metadata": {},
   "source": [
    "We do the same thing with \"SalePrice\" column, we localize those  rows 1298 and 523 and make sure they are the right outliers to remove. \n",
    "* They both have the same price range as the detected outliers. So, we just drop them."
   ]
  },
  {
   "cell_type": "code",
   "execution_count": 23,
   "metadata": {},
   "outputs": [
    {
     "data": {
      "text/plain": [
       "SalePrice    160000\n",
       "Name: 1298, dtype: int64"
      ]
     },
     "execution_count": 23,
     "metadata": {},
     "output_type": "execute_result"
    }
   ],
   "source": [
    "target=a[['SalePrice']]\n",
    "target.loc[1298]"
   ]
  },
  {
   "cell_type": "code",
   "execution_count": 24,
   "metadata": {},
   "outputs": [
    {
     "data": {
      "text/plain": [
       "SalePrice    184750\n",
       "Name: 523, dtype: int64"
      ]
     },
     "execution_count": 24,
     "metadata": {},
     "output_type": "execute_result"
    }
   ],
   "source": [
    "target.loc[523]"
   ]
  },
  {
   "cell_type": "code",
   "execution_count": 25,
   "metadata": {},
   "outputs": [],
   "source": [
    "pos = [1298,523, 297]\n",
    "target.drop(target.index[pos], inplace=True)"
   ]
  },
  {
   "cell_type": "code",
   "execution_count": 26,
   "metadata": {},
   "outputs": [
    {
     "name": "stdout",
     "output_type": "stream",
     "text": [
      "We make sure that both train and target sets have the same row number after removing the outliers:\n",
      "Train:  1457 rows\n",
      "Target: 1457 rows\n"
     ]
    }
   ],
   "source": [
    "print('We make sure that both train and target sets have the same row number after removing the outliers:')\n",
    "print( 'Train: ',train.shape[0], 'rows')\n",
    "print('Target:', target.shape[0],'rows')"
   ]
  },
  {
   "cell_type": "markdown",
   "metadata": {},
   "source": [
    "#### Log tranform the target because it's skewed to the right"
   ]
  },
  {
   "cell_type": "code",
   "execution_count": 27,
   "metadata": {},
   "outputs": [],
   "source": [
    "#log transform the target:\n",
    "target[\"SalePrice\"] = np.log1p(target[\"SalePrice\"])"
   ]
  },
  {
   "cell_type": "code",
   "execution_count": 28,
   "metadata": {
    "_kg_hide-input": true
   },
   "outputs": [
    {
     "data": {
      "text/plain": [
       "Text(0.5, 1.0, 'Sale price distribution after normalization')"
      ]
     },
     "execution_count": 28,
     "metadata": {},
     "output_type": "execute_result"
    },
    {
     "data": {
      "image/png": "[encoded data removed]",
      "text/plain": [
       "<Figure size 1080x360 with 2 Axes>"
      ]
     },
     "metadata": {},
     "output_type": "display_data"
    }
   ],
   "source": [
    "plt.style.use('seaborn')\n",
    "sns.set_style('whitegrid')\n",
    "fig = plt.figure(figsize=(15,5))\n",
    "#1 rows 2 cols\n",
    "#first row, first col\n",
    "ax1 = plt.subplot2grid((1,2),(0,0))\n",
    "plt.hist(a.SalePrice, bins=10, color='mediumpurple')\n",
    "plt.title('Sale price distribution before normalization',weight='bold', fontsize=18)\n",
    "#first row sec col\n",
    "ax1 = plt.subplot2grid((1,2),(0,1))\n",
    "plt.hist(target.SalePrice, bins=10, color='darkcyan')\n",
    "plt.title('Sale price distribution after normalization',weight='bold', fontsize=18)"
   ]
  },
  {
   "cell_type": "markdown",
   "metadata": {},
   "source": [
    "# Machine Learning"
   ]
  },
  {
   "cell_type": "code",
   "execution_count": 29,
   "metadata": {},
   "outputs": [],
   "source": [
    "from sklearn.metrics import mean_squared_error\n",
    "from sklearn.model_selection import cross_val_score, GridSearchCV, KFold, RandomizedSearchCV, train_test_split\n",
    "import math\n",
    "import sklearn.model_selection as ms\n",
    "import sklearn.metrics as sklm"
   ]
  },
  {
   "cell_type": "markdown",
   "metadata": {},
   "source": [
    "## Preprocessing"
   ]
  },
  {
   "cell_type": "markdown",
   "metadata": {},
   "source": [
    "We start machine learning by setting the features and target:\n",
    "* Features: x\n",
    "* Target: y"
   ]
  },
  {
   "cell_type": "code",
   "execution_count": 30,
   "metadata": {},
   "outputs": [],
   "source": [
    "x=train\n",
    "y=np.array(target)"
   ]
  },
  {
   "cell_type": "markdown",
   "metadata": {},
   "source": [
    "Then, we split them to train and test sets"
   ]
  },
  {
   "cell_type": "code",
   "execution_count": 31,
   "metadata": {},
   "outputs": [],
   "source": [
    "from sklearn.model_selection import train_test_split\n",
    "x_train, x_test, y_train, y_test = train_test_split(x, y,test_size = .33, random_state=0)"
   ]
  },
  {
   "cell_type": "markdown",
   "metadata": {},
   "source": [
    "We use RobustScaler to scale our data because it's powerful against outliers, we already detected some but there must be some other outliers out there, I will try to find them in future versions of the kernel"
   ]
  },
  {
   "cell_type": "code",
   "execution_count": 32,
   "metadata": {},
   "outputs": [],
   "source": [
    "from sklearn.preprocessing import RobustScaler\n",
    "scaler= RobustScaler()\n",
    "# transform \"x_train\"\n",
    "x_train = scaler.fit_transform(x_train)\n",
    "# transform \"x_test\"\n",
    "x_test = scaler.transform(x_test)\n",
    "#Transform the test set\n",
    "X_test= scaler.transform(Test)"
   ]
  },
  {
   "cell_type": "markdown",
   "metadata": {},
   "source": [
    "We first start by trying the very basic regression model: Linear regression. \n",
    "* We use 5- Fold cross validation for a better error estimate:\n"
   ]
  },
  {
   "cell_type": "code",
   "execution_count": 33,
   "metadata": {},
   "outputs": [
    {
     "name": "stdout",
     "output_type": "stream",
     "text": [
      "-0.015718399538823324\n",
      "RMSE = 0.12537304151540443\n"
     ]
    }
   ],
   "source": [
    "from sklearn.linear_model import LinearRegression\n",
    "\n",
    "lreg=LinearRegression()\n",
    "MSEs=ms.cross_val_score(lreg, x, y, scoring='neg_mean_squared_error', cv=5)\n",
    "meanMSE=np.mean(MSEs)\n",
    "print(meanMSE)\n",
    "print('RMSE = '+str(math.sqrt(-meanMSE)))"
   ]
  },
  {
   "cell_type": "markdown",
   "metadata": {},
   "source": [
    "## Regularization: "
   ]
  },
  {
   "cell_type": "markdown",
   "metadata": {},
   "source": [
    "> ## Ridge regression:\n",
    "* Minimize squared error + a term **alpha** that penalizes the error\n",
    "* We need to find a value of **alpha** that minimizes the train and test error (avoid overfitting)"
   ]
  },
  {
   "cell_type": "code",
   "execution_count": 34,
   "metadata": {},
   "outputs": [
    {
     "name": "stdout",
     "output_type": "stream",
     "text": [
      "The best value of Alpha is:  {'alpha': 17}\n",
      "The best score achieved with Alpha=14 is:  0.11499098170953846\n"
     ]
    }
   ],
   "source": [
    "import sklearn.model_selection as GridSearchCV\n",
    "from sklearn.linear_model import Ridge\n",
    "\n",
    "ridge=Ridge()\n",
    "parameters= {'alpha':[x for x in range(1,101)]}\n",
    "\n",
    "ridge_reg=ms.GridSearchCV(ridge, param_grid=parameters, scoring='neg_mean_squared_error', cv=15)\n",
    "ridge_reg.fit(x_train,y_train)\n",
    "print(\"The best value of Alpha is: \",ridge_reg.best_params_)\n",
    "print(\"The best score achieved with Alpha=14 is: \",math.sqrt(-ridge_reg.best_score_))"
   ]
  },
  {
   "cell_type": "code",
   "execution_count": 35,
   "metadata": {},
   "outputs": [
    {
     "name": "stdout",
     "output_type": "stream",
     "text": [
      "Root Mean Square Error train = 0.0955654695037998\n",
      "Root Mean Square Error test = 0.11498479795724216\n"
     ]
    }
   ],
   "source": [
    "ridge_mod=Ridge(alpha=17)\n",
    "ridge_mod.fit(x_train,y_train)\n",
    "y_pred_train=ridge_mod.predict(x_train)\n",
    "y_pred_test=ridge_mod.predict(x_test)\n",
    "\n",
    "print('Root Mean Square Error train = ' + str(math.sqrt(sklm.mean_squared_error(y_train, y_pred_train))))\n",
    "print('Root Mean Square Error test = ' + str(math.sqrt(sklm.mean_squared_error(y_test, y_pred_test))))   "
   ]
  },
  {
   "cell_type": "markdown",
   "metadata": {},
   "source": [
    "> ## Lasso regression"
   ]
  },
  {
   "cell_type": "code",
   "execution_count": 36,
   "metadata": {},
   "outputs": [
    {
     "name": "stdout",
     "output_type": "stream",
     "text": [
      "The best value of Alpha is:  {'alpha': 0.0009}\n"
     ]
    }
   ],
   "source": [
    "from sklearn.linear_model import Lasso\n",
    "\n",
    "parameters= {'alpha':[0.0001,0.0009,0.001,0.002,0.003,0.01,0.1,1,10,100]}\n",
    "\n",
    "lasso=Lasso()\n",
    "lasso_reg=ms.GridSearchCV(lasso, param_grid=parameters, scoring='neg_mean_squared_error', cv=15)\n",
    "lasso_reg.fit(x_train,y_train)\n",
    "\n",
    "print('The best value of Alpha is: ',lasso_reg.best_params_)"
   ]
  },
  {
   "cell_type": "code",
   "execution_count": 37,
   "metadata": {},
   "outputs": [
    {
     "name": "stdout",
     "output_type": "stream",
     "text": [
      "Root Mean Square Error train = 0.10045366842935267\n",
      "Root Mean Square Error test = 0.11201379259476699\n"
     ]
    }
   ],
   "source": [
    "lasso_mod=Lasso(alpha=0.0009)\n",
    "lasso_mod.fit(x_train,y_train)\n",
    "y_lasso_train=lasso_mod.predict(x_train)\n",
    "y_lasso_test=lasso_mod.predict(x_test)\n",
    "\n",
    "print('Root Mean Square Error train = ' + str(math.sqrt(sklm.mean_squared_error(y_train, y_lasso_train))))\n",
    "print('Root Mean Square Error test = ' + str(math.sqrt(sklm.mean_squared_error(y_test, y_lasso_test))))"
   ]
  },
  {
   "cell_type": "code",
   "execution_count": 38,
   "metadata": {
    "_kg_hide-input": true
   },
   "outputs": [],
   "source": [
    "coefs = pd.Series(lasso_mod.coef_, index = x.columns)\n"
   ]
  },
  {
   "cell_type": "code",
   "execution_count": 39,
   "metadata": {},
   "outputs": [
    {
     "name": "stdout",
     "output_type": "stream",
     "text": [
      "Lasso kept  88 important features and dropped the other  193  features\n"
     ]
    }
   ],
   "source": [
    "\n",
    "print(\"Lasso kept \",sum(coefs != 0), \"important features and dropped the other \", sum(coefs == 0),\" features\")"
   ]
  },
  {
   "cell_type": "markdown",
   "metadata": {},
   "source": [
    "> ## ElasticNet"
   ]
  },
  {
   "cell_type": "code",
   "execution_count": 40,
   "metadata": {},
   "outputs": [
    {
     "name": "stdout",
     "output_type": "stream",
     "text": [
      "Root Mean Square Error test = 0.11505604496135063\n",
      "0.003\n"
     ]
    }
   ],
   "source": [
    "from sklearn.linear_model import ElasticNetCV\n",
    "\n",
    "alphas = [10,1,0.1,0.01,0.001,0.002,0.003,0.004,0.005,0.00054255]\n",
    "l1ratio = [0.1, 0.3,0.5, 0.9, 0.95, 0.99, 1]\n",
    "\n",
    "elastic_cv = ElasticNetCV(cv=5, max_iter=1e7, alphas=alphas,  l1_ratio=l1ratio)\n",
    "\n",
    "elasticmod = elastic_cv.fit(x_train, y_train.ravel())\n",
    "ela_pred=elasticmod.predict(x_test)\n",
    "print('Root Mean Square Error test = ' + str(math.sqrt(sklm.mean_squared_error(y_test, ela_pred))))\n",
    "print(elastic_cv.alpha_)"
   ]
  },
  {
   "cell_type": "code",
   "execution_count": 41,
   "metadata": {},
   "outputs": [
    {
     "name": "stdout",
     "output_type": "stream",
     "text": [
      "Root Mean Square Error test = 0.11358347357328731\n",
      "0.000542555\n"
     ]
    }
   ],
   "source": [
    "from sklearn.linear_model import ElasticNetCV\n",
    "\n",
    "alphas = [0.000542555]\n",
    "l1ratio = [0.1, 0.3,0.5, 0.9, 0.95, 0.99, 1]\n",
    "\n",
    "elastic_cv = ElasticNetCV(cv=5, max_iter=1e7, alphas=alphas,  l1_ratio=l1ratio)\n",
    "\n",
    "elasticmod = elastic_cv.fit(x_train, y_train.ravel())\n",
    "ela_pred=elasticmod.predict(x_test)\n",
    "print('Root Mean Square Error test = ' + str(math.sqrt(sklm.mean_squared_error(y_test, ela_pred))))\n",
    "print(elastic_cv.alpha_)"
   ]
  },
  {
   "cell_type": "code",
   "execution_count": 42,
   "metadata": {},
   "outputs": [],
   "source": [
    "from xgboost.sklearn import XGBRegressor\n",
    "\n",
    "#xg_reg = XGBRegressor()\n",
    "#xgparam_grid= {'learning_rate' : [0.01],'n_estimators':[2000, 3460, 4000],\n",
    "#                                     'max_depth':[3], 'min_child_weight':[0,3,5],\n",
    "#                                     'colsample_bytree':[0.5,0.7],\n",
    "#                                     'reg_alpha':[0.0001,0.001,0.01,0.1,10,100],\n",
    "#                                    'reg_lambda':[1,0.01,0.8,0.001,0.0001]}\n",
    "#\n",
    "#xg_grid=GridSearchCV(xg_reg, param_grid=xgparam_grid, cv=5, scoring='neg_mean_squared_error', n_jobs=-1)\n",
    "#xg_grid.fit(x_train,y_train)\n",
    "#print(xg_grid.best_estimator_)\n",
    "#print(xg_grid.best_score_)"
   ]
  },
  {
   "cell_type": "markdown",
   "metadata": {},
   "source": [
    "The gridSearch above tunes the hyperparamaters, but it takes forever to run. I copy the best estimator results to the model below. Feel free to uncomment and check it out."
   ]
  },
  {
   "cell_type": "code",
   "execution_count": 43,
   "metadata": {},
   "outputs": [
    {
     "name": "stdout",
     "output_type": "stream",
     "text": [
      "Root Mean Square Error test = 0.11492836547631496\n"
     ]
    }
   ],
   "source": [
    "xgb= XGBRegressor(base_score=0.5, booster='gbtree', colsample_bylevel=1,\n",
    "             colsample_bynode=1, colsample_bytree=0.5, gamma=0,\n",
    "             importance_type='gain', learning_rate=0.01, max_delta_step=0,\n",
    "             max_depth=3, min_child_weight=0, missing=None, n_estimators=4000,\n",
    "             n_jobs=1, nthread=None, objective='reg:squarederror', random_state=0,\n",
    "             reg_alpha=0.0001, reg_lambda=0.01, scale_pos_weight=1, seed=None,\n",
    "             silent=None, subsample=1, verbosity=1)\n",
    "xgmod=xgb.fit(x_train,y_train)\n",
    "xg_pred=xgmod.predict(x_test)\n",
    "print('Root Mean Square Error test = ' + str(math.sqrt(sklm.mean_squared_error(y_test, xg_pred))))\n",
    "\n",
    "\n",
    "\n"
   ]
  },
  {
   "cell_type": "markdown",
   "metadata": {},
   "source": [
    "### VOTING REGRESSOR"
   ]
  },
  {
   "cell_type": "code",
   "execution_count": 44,
   "metadata": {},
   "outputs": [
    {
     "name": "stdout",
     "output_type": "stream",
     "text": [
      "Root Mean Square Error test = 0.10936827808219798\n"
     ]
    }
   ],
   "source": [
    "from sklearn.ensemble import VotingRegressor\n",
    "\n",
    "vote_mod = VotingRegressor([('Ridge', ridge_mod), ('Lasso', lasso_mod), ('Elastic', elastic_cv), ('XGBRegressor', xgb)])\n",
    "vote= vote_mod.fit(x_train, y_train.ravel())\n",
    "vote_pred=vote.predict(x_test)\n",
    "\n",
    "print('Root Mean Square Error test = ' + str(math.sqrt(sklm.mean_squared_error(y_test, vote_pred))))"
   ]
  },
  {
   "cell_type": "code",
   "execution_count": 45,
   "metadata": {},
   "outputs": [],
   "source": [
    "#VotingRegressor to predict the final Test\n",
    "vote_test = vote_mod.predict(X_test)\n",
    "final1=np.expm1(vote_test)\n"
   ]
  },
  {
   "cell_type": "code",
   "execution_count": 46,
   "metadata": {},
   "outputs": [],
   "source": [
    "#Submission of the results predicted by VotingRegressor\n",
    "vote_submission = pd.DataFrame({\n",
    "        \"Id\": b[\"Id\"],\n",
    "        \"SalePrice\": final1\n",
    "    })\n",
    "vote_submission.to_csv(\"submission.csv\", index=False)"
   ]
  },
  {
   "cell_type": "code",
   "execution_count": null,
   "metadata": {},
   "outputs": [],
   "source": []
  },
  {
   "cell_type": "code",
   "execution_count": null,
   "metadata": {},
   "outputs": [],
   "source": []
  },
  {
   "cell_type": "code",
   "execution_count": null,
   "metadata": {},
   "outputs": [],
   "source": []
  }
 ],
 "metadata": {
  "kernelspec": {
   "display_name": "Python 3",
   "language": "python",
   "name": "python3"
  },
  "language_info": {
   "codemirror_mode": {
    "name": "ipython",
    "version": 3
   },
   "file_extension": ".py",
   "mimetype": "text/x-python",
   "name": "python",
   "nbconvert_exporter": "python",
   "pygments_lexer": "ipython3",
   "version": "3.7.3"
  }
 },
 "nbformat": 4,
 "nbformat_minor": 1
}
